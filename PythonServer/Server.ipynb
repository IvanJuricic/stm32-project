{
 "cells": [
  {
   "cell_type": "code",
   "execution_count": 1,
   "metadata": {},
   "outputs": [],
   "source": [
    "import socket\n",
    "import threading\n",
    "import time\n",
    "from queue import Queue\n",
    "from datetime import datetime"
   ]
  },
  {
   "cell_type": "code",
   "execution_count": 2,
   "metadata": {},
   "outputs": [],
   "source": [
    "THREADS = 2\n",
    "TASK_ID = [1,2]\n",
    "\n",
    "queue = Queue()\n",
    "\n",
    "all_addresses = []\n",
    "all_ips = []\n",
    "\n",
    "server_address = (\"192.168.1.2\",3000)\n",
    "\n",
    "lock_active = 0\n",
    "\n",
    "bufferSize = 64"
   ]
  },
  {
   "cell_type": "code",
   "execution_count": null,
   "metadata": {},
   "outputs": [],
   "source": [
    "msgFromServer = \"Hello from server\"\n",
    "msgToBytes = str.encode(msgFromServer)\n",
    "\n",
    "msgLocked = \"LOCKED\"\n",
    "msgLockedToBytes = str.encode(msgLocked)\n",
    "\n",
    "msgUnlocked = \"UNLOCKED\"\n",
    "msgUnlockedToBytes = str.encode(msgUnlocked)"
   ]
  },
  {
   "cell_type": "code",
   "execution_count": null,
   "metadata": {},
   "outputs": [],
   "source": [
    "# Create datagram socket\n",
    "\n",
    "serverSocket = socket.socket(socket.AF_INET,socket.SOCK_DGRAM)\n",
    "\n",
    "serverSocket.bind(server_address)\n",
    "\n",
    "print(\"UDP Server is up and listening\")"
   ]
  },
  {
   "cell_type": "code",
   "execution_count": null,
   "metadata": {},
   "outputs": [],
   "source": [
    "# Handling connections\n",
    "\n",
    "def connections_handler():\n",
    "    \n",
    "    # booleans for lock initialization\n",
    "    global lock_address, lock_active, lock_ip\n",
    "    \n",
    "    # delete all addresses from last time server was active\n",
    "    del all_addresses[:]\n",
    "    \n",
    "    while True:\n",
    "        \n",
    "        dateTimeObj = datetime.now()\n",
    "        # Receive message and client IP and port\n",
    "        message, address = serverSocket.recvfrom(bufferSize)\n",
    "        # Store client IP and port tuple in a list\n",
    "        all_addresses.append(address)\n",
    "        all_ips.append(address[0])\n",
    "        \n",
    "        # Check if new incoming client is connected to the server\n",
    "        if (all_ips.count(address[0]) == 1 ):\n",
    "            \n",
    "            print(f\"{dateTimeObj.hour}:{dateTimeObj.minute}:{dateTimeObj.second}  New connection added ==> {address[0]}\")\n",
    "        \n",
    "        if (all_ips.count(address[0]) == 2):\n",
    "            \n",
    "            for addr in all_addresses:\n",
    "                if(addr[0] == address[0]):\n",
    "                    all_addresses.remove(addr)\n",
    "                    break\n",
    "        \n",
    "        if (message == b'Your lock, reporting for duty!'):\n",
    "            \n",
    "            lock_ip = address[0]\n",
    "            lock_address = address\n",
    "            \n",
    "            print(f\"Got your lock locked in at IP Address {lock_ip}!!\")\n",
    "            lock_active = 1\n",
    "            \n",
    "            serverSocket.sendto(msgToBytes,lock_address)\n",
    "            \n",
    "        \n",
    "        if (lock_active == 0):\n",
    "            \n",
    "            print(\"We are waiting for lock to come online, please wait....\")\n",
    "            print(message)\n",
    "            if(message == b'Hello, client here!'):\n",
    "                serverSocket.sendto(msgToBytes, address)\n",
    "        \n",
    "        if (lock_active == 1):\n",
    "            \n",
    "            if( address[0] == lock_ip ):\n",
    "\n",
    "                if(message == b'Locked'):\n",
    "                    print(\"Lock says it is LOCKED!!\")\n",
    "                    for ip in all_addresses:\n",
    "                        if(ip != lock_address):\n",
    "                            serverSocket.sendto(msgLockedToBytes, ip)\n",
    "\n",
    "                elif(message == b'Unlocked'):\n",
    "                    print(\"Lock says it is UNLOCKED!!\")\n",
    "                    for ip in all_addresses:\n",
    "                        if(ip != lock_address):\n",
    "                            serverSocket.sendto(msgUnlockedToBytes, ip)\n"
   ]
  },
  {
   "cell_type": "code",
   "execution_count": null,
   "metadata": {},
   "outputs": [],
   "source": [
    "connections_handler()"
   ]
  },
  {
   "cell_type": "code",
   "execution_count": null,
   "metadata": {},
   "outputs": [],
   "source": []
  }
 ],
 "metadata": {
  "kernelspec": {
   "display_name": "Python 3",
   "language": "python",
   "name": "python3"
  },
  "language_info": {
   "codemirror_mode": {
    "name": "ipython",
    "version": 3
   },
   "file_extension": ".py",
   "mimetype": "text/x-python",
   "name": "python",
   "nbconvert_exporter": "python",
   "pygments_lexer": "ipython3",
   "version": "3.7.4"
  }
 },
 "nbformat": 4,
 "nbformat_minor": 4
}
