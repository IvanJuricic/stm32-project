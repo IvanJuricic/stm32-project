{
 "cells": [
  {
   "cell_type": "code",
   "execution_count": null,
   "metadata": {},
   "outputs": [],
   "source": [
    "import socket"
   ]
  },
  {
   "cell_type": "code",
   "execution_count": null,
   "metadata": {},
   "outputs": [],
   "source": [
    "serverSocket = socket.socket()\n",
    "server_address = (\"192.168.1.2\",3000)\n",
    "serverSocket.bind(server_address)\n",
    "serverSocket.listen(5)"
   ]
  },
  {
   "cell_type": "code",
   "execution_count": null,
   "metadata": {},
   "outputs": [],
   "source": [
    "while True:\n",
    "    \n",
    "    print(f\"Listening for clients on port {server_address[0]}:{server_address[1]}\")\n",
    "    clientConnection, clientAddress = serverSocket.accept()\n",
    "    \n",
    "    print(f\"Yessss! Got a connection from {clientAddress}\")        \n",
    "    data = clientConnection.recv(20).decode(\"utf-8\")\n",
    "        \n",
    "    if(data == \"hello\"):\n",
    "        print(f\"User {clientAddress} sent {data}\")\n",
    "    else:\n",
    "        print(f\"Actually, user {clientAddress} didn't send hello but {data}\")"
   ]
  },
  {
   "cell_type": "code",
   "execution_count": null,
   "metadata": {},
   "outputs": [],
   "source": []
  }
 ],
 "metadata": {
  "kernelspec": {
   "display_name": "Python 3",
   "language": "python",
   "name": "python3"
  },
  "language_info": {
   "codemirror_mode": {
    "name": "ipython",
    "version": 3
   },
   "file_extension": ".py",
   "mimetype": "text/x-python",
   "name": "python",
   "nbconvert_exporter": "python",
   "pygments_lexer": "ipython3",
   "version": "3.7.4"
  }
 },
 "nbformat": 4,
 "nbformat_minor": 4
}
